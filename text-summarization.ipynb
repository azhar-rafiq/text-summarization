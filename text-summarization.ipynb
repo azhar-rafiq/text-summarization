{
 "cells": [
  {
   "cell_type": "code",
   "execution_count": 23,
   "metadata": {},
   "outputs": [],
   "source": [
    "import pandas as pd\n",
    "\n",
    "#pip install datasets\n",
    "from datasets import Dataset\n",
    "#pip install transformers\n",
    "from transformers import AutoTokenizer\n",
    "from transformers import BertConfig, EncoderDecoderConfig, EncoderDecoderModel\n",
    "#pip install torch\n",
    "from transformers import DataCollatorForSeq2Seq, AutoModelForSeq2SeqLM, Seq2SeqTrainingArguments, Seq2SeqTrainer\n"
   ]
  },
  {
   "cell_type": "code",
   "execution_count": 2,
   "metadata": {},
   "outputs": [],
   "source": [
    "\n",
    "train_df = pd.read_csv(\"c_train_df_5k.csv\")\n",
    "test_df = pd.read_csv(\"c_test_df.csv\")\n",
    "val_df = pd.read_csv(\"c_dev_df.csv\")"
   ]
  },
  {
   "cell_type": "code",
   "execution_count": 3,
   "metadata": {},
   "outputs": [
    {
     "name": "stdout",
     "output_type": "stream",
     "text": [
      "RangeIndex(start=0, stop=57458, step=1)\n",
      "Index(['Unnamed: 0', 'clean_article', 'clean_summary'], dtype='object')\n"
     ]
    }
   ],
   "source": [
    "# Cek Indeks DataFrame\n",
    "print(train_df.index)\n",
    "\n",
    "# Cek Kolom DataFrame\n",
    "print(train_df.columns)"
   ]
  },
  {
   "cell_type": "code",
   "execution_count": 4,
   "metadata": {},
   "outputs": [
    {
     "data": {
      "text/html": [
       "<div>\n",
       "<style scoped>\n",
       "    .dataframe tbody tr th:only-of-type {\n",
       "        vertical-align: middle;\n",
       "    }\n",
       "\n",
       "    .dataframe tbody tr th {\n",
       "        vertical-align: top;\n",
       "    }\n",
       "\n",
       "    .dataframe thead th {\n",
       "        text-align: right;\n",
       "    }\n",
       "</style>\n",
       "<table border=\"1\" class=\"dataframe\">\n",
       "  <thead>\n",
       "    <tr style=\"text-align: right;\">\n",
       "      <th></th>\n",
       "      <th>Unnamed: 0</th>\n",
       "      <th>clean_article</th>\n",
       "      <th>clean_summary</th>\n",
       "    </tr>\n",
       "  </thead>\n",
       "  <tbody>\n",
       "    <tr>\n",
       "      <th>0</th>\n",
       "      <td>0</td>\n",
       "      <td>Liputan6. com, Indramayu : Kehebohan Alquran b...</td>\n",
       "      <td>Mohammad MM, Wahidin, dan Tanti Wydiasari meng...</td>\n",
       "    </tr>\n",
       "    <tr>\n",
       "      <th>1</th>\n",
       "      <td>1</td>\n",
       "      <td>Liputan6. com, Jakarta : Baekuni atau Babe men...</td>\n",
       "      <td>Sebelum menjebak sejumlah korbannya, Babe tern...</td>\n",
       "    </tr>\n",
       "    <tr>\n",
       "      <th>2</th>\n",
       "      <td>2</td>\n",
       "      <td>Liputan6. com, Jakarta : Bisnis bingkisan leba...</td>\n",
       "      <td>Bisnis bingkisan Lebaran di Ibu Kota kembali b...</td>\n",
       "    </tr>\n",
       "    <tr>\n",
       "      <th>3</th>\n",
       "      <td>3</td>\n",
       "      <td>Liputan6. com, Makassar : Besse yang tengah ha...</td>\n",
       "      <td>Besse dan Bahir, anaknya yang berusia lima tah...</td>\n",
       "    </tr>\n",
       "    <tr>\n",
       "      <th>4</th>\n",
       "      <td>4</td>\n",
       "      <td>Liputan6. com, Medan : Ngatini alias Maulida, ...</td>\n",
       "      <td>Ngatini tewas diduga keracunan chlorofil produ...</td>\n",
       "    </tr>\n",
       "  </tbody>\n",
       "</table>\n",
       "</div>"
      ],
      "text/plain": [
       "   Unnamed: 0                                      clean_article  \\\n",
       "0           0  Liputan6. com, Indramayu : Kehebohan Alquran b...   \n",
       "1           1  Liputan6. com, Jakarta : Baekuni atau Babe men...   \n",
       "2           2  Liputan6. com, Jakarta : Bisnis bingkisan leba...   \n",
       "3           3  Liputan6. com, Makassar : Besse yang tengah ha...   \n",
       "4           4  Liputan6. com, Medan : Ngatini alias Maulida, ...   \n",
       "\n",
       "                                       clean_summary  \n",
       "0  Mohammad MM, Wahidin, dan Tanti Wydiasari meng...  \n",
       "1  Sebelum menjebak sejumlah korbannya, Babe tern...  \n",
       "2  Bisnis bingkisan Lebaran di Ibu Kota kembali b...  \n",
       "3  Besse dan Bahir, anaknya yang berusia lima tah...  \n",
       "4  Ngatini tewas diduga keracunan chlorofil produ...  "
      ]
     },
     "metadata": {},
     "output_type": "display_data"
    },
    {
     "data": {
      "text/html": [
       "<div>\n",
       "<style scoped>\n",
       "    .dataframe tbody tr th:only-of-type {\n",
       "        vertical-align: middle;\n",
       "    }\n",
       "\n",
       "    .dataframe tbody tr th {\n",
       "        vertical-align: top;\n",
       "    }\n",
       "\n",
       "    .dataframe thead th {\n",
       "        text-align: right;\n",
       "    }\n",
       "</style>\n",
       "<table border=\"1\" class=\"dataframe\">\n",
       "  <thead>\n",
       "    <tr style=\"text-align: right;\">\n",
       "      <th></th>\n",
       "      <th>Unnamed: 0</th>\n",
       "      <th>clean_article</th>\n",
       "      <th>clean_summary</th>\n",
       "    </tr>\n",
       "  </thead>\n",
       "  <tbody>\n",
       "    <tr>\n",
       "      <th>0</th>\n",
       "      <td>0</td>\n",
       "      <td>Liputan6. com, Jakarta : Kasus pengeboman gere...</td>\n",
       "      <td>Sebuah bom meledak di Gereja Petra di Koja, Ja...</td>\n",
       "    </tr>\n",
       "    <tr>\n",
       "      <th>1</th>\n",
       "      <td>1</td>\n",
       "      <td>Liputan6. com, Yogyakarta : Komisi A DPRD Daer...</td>\n",
       "      <td>Mahasiswa sekolah tinggi di Yogyakarta melibat...</td>\n",
       "    </tr>\n",
       "    <tr>\n",
       "      <th>2</th>\n",
       "      <td>2</td>\n",
       "      <td>Liputan6. com, Jakarta : Menyusul sejumlah aks...</td>\n",
       "      <td>Dalam sepekan, dua bom menggemparkan Ibu Kota....</td>\n",
       "    </tr>\n",
       "    <tr>\n",
       "      <th>3</th>\n",
       "      <td>3</td>\n",
       "      <td>Liputan6. com, Jakarta : Rencana pemberian abo...</td>\n",
       "      <td>Pemberian abolisi kepada Soeharto lantaran kes...</td>\n",
       "    </tr>\n",
       "    <tr>\n",
       "      <th>4</th>\n",
       "      <td>4</td>\n",
       "      <td>Liputan6. com, Jakarta : Ancaman mogok besar-b...</td>\n",
       "      <td>Pemerintah akan membayar rapel gaji guru palin...</td>\n",
       "    </tr>\n",
       "  </tbody>\n",
       "</table>\n",
       "</div>"
      ],
      "text/plain": [
       "   Unnamed: 0                                      clean_article  \\\n",
       "0           0  Liputan6. com, Jakarta : Kasus pengeboman gere...   \n",
       "1           1  Liputan6. com, Yogyakarta : Komisi A DPRD Daer...   \n",
       "2           2  Liputan6. com, Jakarta : Menyusul sejumlah aks...   \n",
       "3           3  Liputan6. com, Jakarta : Rencana pemberian abo...   \n",
       "4           4  Liputan6. com, Jakarta : Ancaman mogok besar-b...   \n",
       "\n",
       "                                       clean_summary  \n",
       "0  Sebuah bom meledak di Gereja Petra di Koja, Ja...  \n",
       "1  Mahasiswa sekolah tinggi di Yogyakarta melibat...  \n",
       "2  Dalam sepekan, dua bom menggemparkan Ibu Kota....  \n",
       "3  Pemberian abolisi kepada Soeharto lantaran kes...  \n",
       "4  Pemerintah akan membayar rapel gaji guru palin...  "
      ]
     },
     "metadata": {},
     "output_type": "display_data"
    },
    {
     "data": {
      "text/html": [
       "<div>\n",
       "<style scoped>\n",
       "    .dataframe tbody tr th:only-of-type {\n",
       "        vertical-align: middle;\n",
       "    }\n",
       "\n",
       "    .dataframe tbody tr th {\n",
       "        vertical-align: top;\n",
       "    }\n",
       "\n",
       "    .dataframe thead th {\n",
       "        text-align: right;\n",
       "    }\n",
       "</style>\n",
       "<table border=\"1\" class=\"dataframe\">\n",
       "  <thead>\n",
       "    <tr style=\"text-align: right;\">\n",
       "      <th></th>\n",
       "      <th>Unnamed: 0</th>\n",
       "      <th>clean_article</th>\n",
       "      <th>clean_summary</th>\n",
       "    </tr>\n",
       "  </thead>\n",
       "  <tbody>\n",
       "    <tr>\n",
       "      <th>0</th>\n",
       "      <td>0</td>\n",
       "      <td>Liputan6. com, Surabaya : Radiogram Direktorat...</td>\n",
       "      <td>Gubernur Jatim Imam Utomo tak mau melantik Bup...</td>\n",
       "    </tr>\n",
       "    <tr>\n",
       "      <th>1</th>\n",
       "      <td>1</td>\n",
       "      <td>Liputan6. com, Jakarta : Berbeda dengan aliran...</td>\n",
       "      <td>Pelukis RM Koestarto memamerkan hasil karyanya...</td>\n",
       "    </tr>\n",
       "    <tr>\n",
       "      <th>2</th>\n",
       "      <td>2</td>\n",
       "      <td>Liputan6. com, Jambi : Ratusan orang dari Kesa...</td>\n",
       "      <td>Dua kelompok pengunjuk rasa di Jambi, menuntut...</td>\n",
       "    </tr>\n",
       "    <tr>\n",
       "      <th>3</th>\n",
       "      <td>3</td>\n",
       "      <td>Liputan6. com, Jakarta : Badan Penyehatan Perb...</td>\n",
       "      <td>BPPN masih mengkaji bank rekap yang dianggap p...</td>\n",
       "    </tr>\n",
       "    <tr>\n",
       "      <th>4</th>\n",
       "      <td>4</td>\n",
       "      <td>Liputan6. com, Jakarta : Ketua Komisi I DPR Ya...</td>\n",
       "      <td>Kendati Dewan Papua membatalkan deklarasi keme...</td>\n",
       "    </tr>\n",
       "  </tbody>\n",
       "</table>\n",
       "</div>"
      ],
      "text/plain": [
       "   Unnamed: 0                                      clean_article  \\\n",
       "0           0  Liputan6. com, Surabaya : Radiogram Direktorat...   \n",
       "1           1  Liputan6. com, Jakarta : Berbeda dengan aliran...   \n",
       "2           2  Liputan6. com, Jambi : Ratusan orang dari Kesa...   \n",
       "3           3  Liputan6. com, Jakarta : Badan Penyehatan Perb...   \n",
       "4           4  Liputan6. com, Jakarta : Ketua Komisi I DPR Ya...   \n",
       "\n",
       "                                       clean_summary  \n",
       "0  Gubernur Jatim Imam Utomo tak mau melantik Bup...  \n",
       "1  Pelukis RM Koestarto memamerkan hasil karyanya...  \n",
       "2  Dua kelompok pengunjuk rasa di Jambi, menuntut...  \n",
       "3  BPPN masih mengkaji bank rekap yang dianggap p...  \n",
       "4  Kendati Dewan Papua membatalkan deklarasi keme...  "
      ]
     },
     "metadata": {},
     "output_type": "display_data"
    }
   ],
   "source": [
    "display(train_df.head())\n",
    "display(test_df.head())\n",
    "display(val_df.head())"
   ]
  },
  {
   "cell_type": "code",
   "execution_count": 6,
   "metadata": {},
   "outputs": [
    {
     "name": "stdout",
     "output_type": "stream",
     "text": [
      "<class 'pandas.core.frame.DataFrame'>\n",
      "RangeIndex: 57458 entries, 0 to 57457\n",
      "Data columns (total 3 columns):\n",
      " #   Column         Non-Null Count  Dtype \n",
      "---  ------         --------------  ----- \n",
      " 0   Unnamed: 0     57458 non-null  int64 \n",
      " 1   clean_article  57458 non-null  object\n",
      " 2   clean_summary  57458 non-null  object\n",
      "dtypes: int64(1), object(2)\n",
      "memory usage: 1.3+ MB\n"
     ]
    },
    {
     "data": {
      "text/plain": [
       "None"
      ]
     },
     "metadata": {},
     "output_type": "display_data"
    },
    {
     "name": "stdout",
     "output_type": "stream",
     "text": [
      "-+-+-+-+-+-+-+-+-+-+-+-+-+-+-+-+-+-+-+-+-+-+-+-+-+-+-+-+-+-+-+-+-+-+-+-+-+-+-+-+-+-+-+-+-+-+-+-+-+-+\n",
      "<class 'pandas.core.frame.DataFrame'>\n",
      "RangeIndex: 10972 entries, 0 to 10971\n",
      "Data columns (total 3 columns):\n",
      " #   Column         Non-Null Count  Dtype \n",
      "---  ------         --------------  ----- \n",
      " 0   Unnamed: 0     10972 non-null  int64 \n",
      " 1   clean_article  10972 non-null  object\n",
      " 2   clean_summary  10972 non-null  object\n",
      "dtypes: int64(1), object(2)\n",
      "memory usage: 257.3+ KB\n"
     ]
    },
    {
     "data": {
      "text/plain": [
       "None"
      ]
     },
     "metadata": {},
     "output_type": "display_data"
    },
    {
     "name": "stdout",
     "output_type": "stream",
     "text": [
      "-+-+-+-+-+-+-+-+-+-+-+-+-+-+-+-+-+-+-+-+-+-+-+-+-+-+-+-+-+-+-+-+-+-+-+-+-+-+-+-+-+-+-+-+-+-+-+-+-+-+\n",
      "<class 'pandas.core.frame.DataFrame'>\n",
      "RangeIndex: 10972 entries, 0 to 10971\n",
      "Data columns (total 3 columns):\n",
      " #   Column         Non-Null Count  Dtype \n",
      "---  ------         --------------  ----- \n",
      " 0   Unnamed: 0     10972 non-null  int64 \n",
      " 1   clean_article  10972 non-null  object\n",
      " 2   clean_summary  10972 non-null  object\n",
      "dtypes: int64(1), object(2)\n",
      "memory usage: 257.3+ KB\n"
     ]
    },
    {
     "data": {
      "text/plain": [
       "None"
      ]
     },
     "metadata": {},
     "output_type": "display_data"
    }
   ],
   "source": [
    "display(train_df.info())\n",
    "print('-+'*50)\n",
    "display(test_df.info())\n",
    "print('-+'*50)\n",
    "display(val_df.info())"
   ]
  },
  {
   "cell_type": "code",
   "execution_count": 13,
   "metadata": {},
   "outputs": [],
   "source": [
    "train_data = Dataset.from_dict(train_df)\n",
    "test_data = Dataset.from_dict(test_df)\n",
    "val_data = Dataset.from_dict(val_df)"
   ]
  },
  {
   "cell_type": "code",
   "execution_count": 15,
   "metadata": {},
   "outputs": [],
   "source": [
    "#Menggunakan bert-tiny dengan AutoTokenizer\n",
    "tokenizer = AutoTokenizer.from_pretrained(\"prajjwal1/bert-tiny\")\n",
    "tokenizer.bos_token = tokenizer.cls_token\n",
    "tokenizer.eos_token = tokenizer.sep_token"
   ]
  },
  {
   "cell_type": "code",
   "execution_count": 16,
   "metadata": {},
   "outputs": [
    {
     "data": {
      "text/plain": [
       "('[CLS]', '[SEP]', 101, 102)"
      ]
     },
     "execution_count": 16,
     "metadata": {},
     "output_type": "execute_result"
    }
   ],
   "source": [
    "tokenizer.bos_token, tokenizer.eos_token, tokenizer.get_vocab()[tokenizer.bos_token], tokenizer.get_vocab()[tokenizer.eos_token]"
   ]
  },
  {
   "cell_type": "code",
   "execution_count": 17,
   "metadata": {},
   "outputs": [],
   "source": [
    "prefix = tokenizer.bos_token + \" \"\n",
    "posfix = \" \" + tokenizer.eos_token\n",
    "\n",
    "def preprocess_function(examples):\n",
    "    inputs = [prefix + str(doc) + posfix for doc in examples[\"clean_article\"]]\n",
    "    model_inputs = tokenizer(inputs, max_length=512, truncation=True)\n",
    "    labels = tokenizer(text=examples[\"clean_summary\"], max_length=128, truncation=True)\n",
    "    model_inputs[\"labels\"] = labels[\"input_ids\"]\n",
    "    return model_inputs"
   ]
  },
  {
   "cell_type": "code",
   "execution_count": 18,
   "metadata": {},
   "outputs": [
    {
     "name": "stderr",
     "output_type": "stream",
     "text": [
      "Map: 100%|██████████| 57458/57458 [00:24<00:00, 2328.20 examples/s]\n",
      "Map: 100%|██████████| 10972/10972 [00:04<00:00, 2409.50 examples/s]\n",
      "Map: 100%|██████████| 10972/10972 [00:04<00:00, 2400.68 examples/s]\n"
     ]
    }
   ],
   "source": [
    "tokenized_Indo_news_train = train_data.map(preprocess_function, batched=True)\n",
    "tokenized_Indo_news_dev = val_data.map(preprocess_function, batched=True)\n",
    "tokenized_Indo_news_test = test_data.map(preprocess_function, batched=True)"
   ]
  },
  {
   "cell_type": "code",
   "execution_count": 26,
   "metadata": {},
   "outputs": [
    {
     "ename": "ImportError",
     "evalue": "\nEncoderDecoderModel requires the PyTorch library but it was not found in your environment.\nHowever, we were able to find a TensorFlow installation. TensorFlow classes begin\nwith \"TF\", but are otherwise identically named to our PyTorch classes. This\nmeans that the TF equivalent of the class you tried to import would be \"TFEncoderDecoderModel\".\nIf you want to use TensorFlow, please use TF classes instead!\n\nIf you really do want to use PyTorch please go to\nhttps://pytorch.org/get-started/locally/ and follow the instructions that\nmatch your environment.\n",
     "output_type": "error",
     "traceback": [
      "\u001b[1;31m---------------------------------------------------------------------------\u001b[0m",
      "\u001b[1;31mImportError\u001b[0m                               Traceback (most recent call last)",
      "\u001b[1;32md:\\Github\\text-summarization\\text-summarization.ipynb Cell 11\u001b[0m line \u001b[0;36m1\n\u001b[0;32m      <a href='vscode-notebook-cell:/d%3A/Github/text-summarization/text-summarization.ipynb#X13sZmlsZQ%3D%3D?line=7'>8</a>\u001b[0m config_decoder \u001b[39m=\u001b[39m BertConfig(\n\u001b[0;32m      <a href='vscode-notebook-cell:/d%3A/Github/text-summarization/text-summarization.ipynb#X13sZmlsZQ%3D%3D?line=8'>9</a>\u001b[0m     vocab_size \u001b[39m=\u001b[39m \u001b[39mlen\u001b[39m(tokenizer\u001b[39m.\u001b[39mget_vocab()), \u001b[39m# sesuaikan dengan vocab tokenizer\u001b[39;00m\n\u001b[0;32m     <a href='vscode-notebook-cell:/d%3A/Github/text-summarization/text-summarization.ipynb#X13sZmlsZQ%3D%3D?line=9'>10</a>\u001b[0m     hidden_size \u001b[39m=\u001b[39m \u001b[39m36\u001b[39m,\n\u001b[1;32m   (...)\u001b[0m\n\u001b[0;32m     <a href='vscode-notebook-cell:/d%3A/Github/text-summarization/text-summarization.ipynb#X13sZmlsZQ%3D%3D?line=12'>13</a>\u001b[0m     intermediate_size \u001b[39m=\u001b[39m \u001b[39m768\u001b[39m,\n\u001b[0;32m     <a href='vscode-notebook-cell:/d%3A/Github/text-summarization/text-summarization.ipynb#X13sZmlsZQ%3D%3D?line=13'>14</a>\u001b[0m )\n\u001b[0;32m     <a href='vscode-notebook-cell:/d%3A/Github/text-summarization/text-summarization.ipynb#X13sZmlsZQ%3D%3D?line=15'>16</a>\u001b[0m config \u001b[39m=\u001b[39m EncoderDecoderConfig\u001b[39m.\u001b[39mfrom_encoder_decoder_configs(config_encoder, config_decoder)\n\u001b[1;32m---> <a href='vscode-notebook-cell:/d%3A/Github/text-summarization/text-summarization.ipynb#X13sZmlsZQ%3D%3D?line=16'>17</a>\u001b[0m model \u001b[39m=\u001b[39m EncoderDecoderModel(config\u001b[39m=\u001b[39;49mconfig)\n\u001b[0;32m     <a href='vscode-notebook-cell:/d%3A/Github/text-summarization/text-summarization.ipynb#X13sZmlsZQ%3D%3D?line=17'>18</a>\u001b[0m model\u001b[39m.\u001b[39mconfig\u001b[39m.\u001b[39mdecoder_start_token_id \u001b[39m=\u001b[39m tokenizer\u001b[39m.\u001b[39mcls_token_id\n\u001b[0;32m     <a href='vscode-notebook-cell:/d%3A/Github/text-summarization/text-summarization.ipynb#X13sZmlsZQ%3D%3D?line=18'>19</a>\u001b[0m model\u001b[39m.\u001b[39mconfig\u001b[39m.\u001b[39mpad_token_id \u001b[39m=\u001b[39m tokenizer\u001b[39m.\u001b[39mpad_token_id\n",
      "File \u001b[1;32mc:\\Users\\azhar\\AppData\\Local\\Programs\\Python\\Python311\\Lib\\site-packages\\transformers\\utils\\dummy_pt_objects.py:3200\u001b[0m, in \u001b[0;36mEncoderDecoderModel.__init__\u001b[1;34m(self, *args, **kwargs)\u001b[0m\n\u001b[0;32m   3199\u001b[0m \u001b[39mdef\u001b[39;00m \u001b[39m__init__\u001b[39m(\u001b[39mself\u001b[39m, \u001b[39m*\u001b[39margs, \u001b[39m*\u001b[39m\u001b[39m*\u001b[39mkwargs):\n\u001b[1;32m-> 3200\u001b[0m     requires_backends(\u001b[39mself\u001b[39;49m, [\u001b[39m\"\u001b[39;49m\u001b[39mtorch\u001b[39;49m\u001b[39m\"\u001b[39;49m])\n",
      "File \u001b[1;32mc:\\Users\\azhar\\AppData\\Local\\Programs\\Python\\Python311\\Lib\\site-packages\\transformers\\utils\\import_utils.py:1283\u001b[0m, in \u001b[0;36mrequires_backends\u001b[1;34m(obj, backends)\u001b[0m\n\u001b[0;32m   1281\u001b[0m \u001b[39m# Raise an error for users who might not realize that classes without \"TF\" are torch-only\u001b[39;00m\n\u001b[0;32m   1282\u001b[0m \u001b[39mif\u001b[39;00m \u001b[39m\"\u001b[39m\u001b[39mtorch\u001b[39m\u001b[39m\"\u001b[39m \u001b[39min\u001b[39;00m backends \u001b[39mand\u001b[39;00m \u001b[39m\"\u001b[39m\u001b[39mtf\u001b[39m\u001b[39m\"\u001b[39m \u001b[39mnot\u001b[39;00m \u001b[39min\u001b[39;00m backends \u001b[39mand\u001b[39;00m \u001b[39mnot\u001b[39;00m is_torch_available() \u001b[39mand\u001b[39;00m is_tf_available():\n\u001b[1;32m-> 1283\u001b[0m     \u001b[39mraise\u001b[39;00m \u001b[39mImportError\u001b[39;00m(PYTORCH_IMPORT_ERROR_WITH_TF\u001b[39m.\u001b[39mformat(name))\n\u001b[0;32m   1285\u001b[0m \u001b[39m# Raise the inverse error for PyTorch users trying to load TF classes\u001b[39;00m\n\u001b[0;32m   1286\u001b[0m \u001b[39mif\u001b[39;00m \u001b[39m\"\u001b[39m\u001b[39mtf\u001b[39m\u001b[39m\"\u001b[39m \u001b[39min\u001b[39;00m backends \u001b[39mand\u001b[39;00m \u001b[39m\"\u001b[39m\u001b[39mtorch\u001b[39m\u001b[39m\"\u001b[39m \u001b[39mnot\u001b[39;00m \u001b[39min\u001b[39;00m backends \u001b[39mand\u001b[39;00m is_torch_available() \u001b[39mand\u001b[39;00m \u001b[39mnot\u001b[39;00m is_tf_available():\n",
      "\u001b[1;31mImportError\u001b[0m: \nEncoderDecoderModel requires the PyTorch library but it was not found in your environment.\nHowever, we were able to find a TensorFlow installation. TensorFlow classes begin\nwith \"TF\", but are otherwise identically named to our PyTorch classes. This\nmeans that the TF equivalent of the class you tried to import would be \"TFEncoderDecoderModel\".\nIf you want to use TensorFlow, please use TF classes instead!\n\nIf you really do want to use PyTorch please go to\nhttps://pytorch.org/get-started/locally/ and follow the instructions that\nmatch your environment.\n"
     ]
    }
   ],
   "source": [
    "config_encoder = BertConfig(\n",
    "    vocab_size = len(tokenizer.get_vocab()), # sesuaikan dengan vocab tokenizer\n",
    "    hidden_size = 36,\n",
    "    num_hidden_layers = 6,\n",
    "    num_attention_heads = 6,\n",
    "    intermediate_size = 768,\n",
    ")\n",
    "config_decoder = BertConfig(\n",
    "    vocab_size = len(tokenizer.get_vocab()), # sesuaikan dengan vocab tokenizer\n",
    "    hidden_size = 36,\n",
    "    num_hidden_layers = 6,\n",
    "    num_attention_heads = 6,\n",
    "    intermediate_size = 768,\n",
    ")\n",
    "\n",
    "config = EncoderDecoderConfig.from_encoder_decoder_configs(config_encoder, config_decoder)\n",
    "model = EncoderDecoderModel(config=config)\n",
    "model.config.decoder_start_token_id = tokenizer.cls_token_id\n",
    "model.config.pad_token_id = tokenizer.pad_token_id"
   ]
  },
  {
   "cell_type": "code",
   "execution_count": 25,
   "metadata": {},
   "outputs": [
    {
     "data": {
      "text/plain": [
       "False"
      ]
     },
     "execution_count": 25,
     "metadata": {},
     "output_type": "execute_result"
    }
   ],
   "source": [
    "import torch\n",
    "torch.cuda.is_available()"
   ]
  },
  {
   "cell_type": "code",
   "execution_count": 27,
   "metadata": {},
   "outputs": [],
   "source": [
    "data_collator = DataCollatorForSeq2Seq(tokenizer=tokenizer, model='t5-small')"
   ]
  },
  {
   "cell_type": "code",
   "execution_count": 28,
   "metadata": {},
   "outputs": [],
   "source": [
    "# Training arguments\n",
    "training_args = Seq2SeqTrainingArguments(\n",
    "    output_dir=\"./output\",\n",
    "    per_device_train_batch_size=4,\n",
    "    save_total_limit=3,\n",
    "    num_train_epochs=1,\n",
    "    fp16=False  # Set fp16 to False\n",
    ")"
   ]
  },
  {
   "cell_type": "code",
   "execution_count": 31,
   "metadata": {},
   "outputs": [
    {
     "ename": "NameError",
     "evalue": "name 'model' is not defined",
     "output_type": "error",
     "traceback": [
      "\u001b[1;31m---------------------------------------------------------------------------\u001b[0m",
      "\u001b[1;31mNameError\u001b[0m                                 Traceback (most recent call last)",
      "\u001b[1;32md:\\Github\\text-summarization\\text-summarization.ipynb Cell 15\u001b[0m line \u001b[0;36m3\n\u001b[0;32m      <a href='vscode-notebook-cell:/d%3A/Github/text-summarization/text-summarization.ipynb#X21sZmlsZQ%3D%3D?line=0'>1</a>\u001b[0m \u001b[39m# Create and configure the trainer\u001b[39;00m\n\u001b[0;32m      <a href='vscode-notebook-cell:/d%3A/Github/text-summarization/text-summarization.ipynb#X21sZmlsZQ%3D%3D?line=1'>2</a>\u001b[0m trainer \u001b[39m=\u001b[39m Seq2SeqTrainer(\n\u001b[1;32m----> <a href='vscode-notebook-cell:/d%3A/Github/text-summarization/text-summarization.ipynb#X21sZmlsZQ%3D%3D?line=2'>3</a>\u001b[0m     model\u001b[39m=\u001b[39mmodel,\n\u001b[0;32m      <a href='vscode-notebook-cell:/d%3A/Github/text-summarization/text-summarization.ipynb#X21sZmlsZQ%3D%3D?line=3'>4</a>\u001b[0m     args\u001b[39m=\u001b[39mtraining_args,\n\u001b[0;32m      <a href='vscode-notebook-cell:/d%3A/Github/text-summarization/text-summarization.ipynb#X21sZmlsZQ%3D%3D?line=4'>5</a>\u001b[0m     train_dataset\u001b[39m=\u001b[39mtokenized_Indo_news_train,\n\u001b[0;32m      <a href='vscode-notebook-cell:/d%3A/Github/text-summarization/text-summarization.ipynb#X21sZmlsZQ%3D%3D?line=5'>6</a>\u001b[0m     eval_dataset\u001b[39m=\u001b[39mtokenized_Indo_news_dev,\n\u001b[0;32m      <a href='vscode-notebook-cell:/d%3A/Github/text-summarization/text-summarization.ipynb#X21sZmlsZQ%3D%3D?line=6'>7</a>\u001b[0m     tokenizer\u001b[39m=\u001b[39mtokenizer,\n\u001b[0;32m      <a href='vscode-notebook-cell:/d%3A/Github/text-summarization/text-summarization.ipynb#X21sZmlsZQ%3D%3D?line=7'>8</a>\u001b[0m     data_collator\u001b[39m=\u001b[39mdata_collator,\n\u001b[0;32m      <a href='vscode-notebook-cell:/d%3A/Github/text-summarization/text-summarization.ipynb#X21sZmlsZQ%3D%3D?line=8'>9</a>\u001b[0m )\n",
      "\u001b[1;31mNameError\u001b[0m: name 'model' is not defined"
     ]
    }
   ],
   "source": [
    "# Create and configure the trainer\n",
    "trainer = Seq2SeqTrainer(\n",
    "    model=model,\n",
    "    args=training_args,\n",
    "    train_dataset=tokenized_Indo_news_train,\n",
    "    eval_dataset=tokenized_Indo_news_dev,\n",
    "    tokenizer=tokenizer,\n",
    "    data_collator=data_collator,\n",
    ")"
   ]
  }
 ],
 "metadata": {
  "kernelspec": {
   "display_name": "Python 3",
   "language": "python",
   "name": "python3"
  },
  "language_info": {
   "codemirror_mode": {
    "name": "ipython",
    "version": 3
   },
   "file_extension": ".py",
   "mimetype": "text/x-python",
   "name": "python",
   "nbconvert_exporter": "python",
   "pygments_lexer": "ipython3",
   "version": "3.11.5"
  }
 },
 "nbformat": 4,
 "nbformat_minor": 2
}
